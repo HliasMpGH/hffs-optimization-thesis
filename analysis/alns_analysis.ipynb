{
 "cells": [
  {
   "cell_type": "code",
   "execution_count": 7,
   "id": "eadd4b53",
   "metadata": {},
   "outputs": [],
   "source": [
    "import pandas as pd\n",
    "import json"
   ]
  },
  {
   "cell_type": "markdown",
   "id": "95c4ad62",
   "metadata": {},
   "source": [
    "* Read the results of the complete ALNS executions"
   ]
  },
  {
   "cell_type": "code",
   "execution_count": 8,
   "id": "cafb5b8a",
   "metadata": {},
   "outputs": [],
   "source": [
    "with open(\"alns_results_real.json\", \"r\") as file:\n",
    "    alns_results = json.load(file)"
   ]
  },
  {
   "cell_type": "markdown",
   "id": "f6b573f6",
   "metadata": {},
   "source": [
    "* Compute averages per trial, max and min trial for each instance"
   ]
  },
  {
   "cell_type": "code",
   "execution_count": null,
   "id": "7a143b83",
   "metadata": {},
   "outputs": [],
   "source": [
    "alns_stats= {}\n",
    "for instance, instance_data in alns_results.items():\n",
    "    results = instance_data.get(\"method:\", {}).get(\"ALNS\", {})\n",
    "\n",
    "    # compute best makespan across all instances in the same group (same S_x and _Ord_y)\n",
    "    group_prefix = instance.split('-I_')[0]\n",
    "    all_makespan_same_group = [\n",
    "        trial_data[\"best_cost\"]\n",
    "        for inst, inst_data in alns_results.items()\n",
    "        if inst.startswith(group_prefix)\n",
    "        for trial_data in inst_data[\"method:\"][\"ALNS\"].values()\n",
    "    ]\n",
    "    bests_makespan = min(all_makespan_same_group)\n",
    "\n",
    "    makespan_values = []\n",
    "    trial_metrics = []\n",
    "    for trial_name, trial_data in results.items():\n",
    "        makespan_values.append(trial_data[\"best_cost\"])\n",
    "        trial_metrics.append((trial_name, trial_data))\n",
    "    # compute average metrics\n",
    "    avg_metrics = {}\n",
    "    if trial_metrics:\n",
    "        keys = trial_metrics[0][1].keys()\n",
    "        for key in keys:\n",
    "            if key.endswith(\"parameters\") or key.endswith(\"best_solution\") or key.endswith(\"final_operator_weights\"):\n",
    "                continue\n",
    "            avg_metrics[key] = sum(m[key] for _, m in trial_metrics) / len(trial_metrics)\n",
    "        # compute average RPD\n",
    "        rpd_values = [(m[\"best_cost\"] - bests_makespan) / bests_makespan for _, m in trial_metrics]\n",
    "        avg_metrics[\"RPD\"] = sum(rpd_values) / len(rpd_values) if rpd_values else None\n",
    "    # find max and min fitness trials\n",
    "    max_idx = makespan_values.index(max(makespan_values))\n",
    "    min_idx = makespan_values.index(min(makespan_values))\n",
    "    max_trial = trial_metrics[max_idx][1]\n",
    "    min_trial = trial_metrics[min_idx][1]\n",
    "    alns_stats[instance] = {\n",
    "        \"average\": avg_metrics,\n",
    "        \"max_makespan_trial\": max_trial,\n",
    "        \"min_makespan_trial\": min_trial\n",
    "}"
   ]
  },
  {
   "cell_type": "markdown",
   "id": "d0acfafd",
   "metadata": {},
   "source": [
    "* Save the detailed results"
   ]
  },
  {
   "cell_type": "code",
   "execution_count": 10,
   "id": "ed894ce9",
   "metadata": {},
   "outputs": [],
   "source": [
    "if alns_stats != {}:\n",
    "    with open(\"alns_analysis.json\", 'w') as file:\n",
    "        json.dump(alns_stats, file, indent=4)"
   ]
  },
  {
   "cell_type": "markdown",
   "id": "1f8f790c",
   "metadata": {},
   "source": [
    "* Create a dataframe with the averages "
   ]
  },
  {
   "cell_type": "code",
   "execution_count": 11,
   "id": "4a2a2cab",
   "metadata": {},
   "outputs": [],
   "source": [
    "data = {}\n",
    "for instance, instance_metrics in alns_stats.items():\n",
    "    row = {}\n",
    "\n",
    "    for metric, value in instance_metrics[\"average\"].items():\n",
    "        row[f\"{metric}_average\"] = value\n",
    "    data[instance] = row\n",
    "\n",
    "df_alns_avg = pd.DataFrame.from_dict(data, orient=\"index\")"
   ]
  },
  {
   "cell_type": "markdown",
   "id": "493654c6",
   "metadata": {},
   "source": [
    "* Group the results per stages-orders categories"
   ]
  },
  {
   "cell_type": "code",
   "execution_count": 12,
   "id": "e11322aa",
   "metadata": {},
   "outputs": [],
   "source": [
    "grouped = df_alns_avg.groupby(\n",
    "    df_alns_avg.index.to_series().str.replace(r'-I_\\d+', '', regex=True)\n",
    ")"
   ]
  },
  {
   "cell_type": "markdown",
   "id": "3bfd3da5",
   "metadata": {},
   "source": [
    "* Print the averages per stages-orders categories"
   ]
  },
  {
   "cell_type": "code",
   "execution_count": 13,
   "id": "a05fa1d0",
   "metadata": {},
   "outputs": [
    {
     "data": {
      "text/html": [
       "<div>\n",
       "<style scoped>\n",
       "    .dataframe tbody tr th:only-of-type {\n",
       "        vertical-align: middle;\n",
       "    }\n",
       "\n",
       "    .dataframe tbody tr th {\n",
       "        vertical-align: top;\n",
       "    }\n",
       "\n",
       "    .dataframe thead th {\n",
       "        text-align: right;\n",
       "    }\n",
       "</style>\n",
       "<table border=\"1\" class=\"dataframe\">\n",
       "  <thead>\n",
       "    <tr style=\"text-align: right;\">\n",
       "      <th></th>\n",
       "      <th>S_3-Ord_10-WIP_0</th>\n",
       "      <th>S_3-Ord_30-WIP_0</th>\n",
       "      <th>S_3-Ord_50-WIP_0</th>\n",
       "      <th>S_6-Ord_10-WIP_0</th>\n",
       "      <th>S_6-Ord_30-WIP_0</th>\n",
       "      <th>S_6-Ord_50-WIP_0</th>\n",
       "      <th>S_9-Ord_10-WIP_0</th>\n",
       "      <th>S_9-Ord_30-WIP_0</th>\n",
       "      <th>S_9-Ord_50-WIP_0</th>\n",
       "    </tr>\n",
       "  </thead>\n",
       "  <tbody>\n",
       "    <tr>\n",
       "      <th>best_cost_average</th>\n",
       "      <td>87.888889</td>\n",
       "      <td>477.000000</td>\n",
       "      <td>287.555556</td>\n",
       "      <td>134.111111</td>\n",
       "      <td>293.222222</td>\n",
       "      <td>604.111111</td>\n",
       "      <td>181.555556</td>\n",
       "      <td>408.222222</td>\n",
       "      <td>528.666667</td>\n",
       "    </tr>\n",
       "    <tr>\n",
       "      <th>iteration_found_average</th>\n",
       "      <td>85.333333</td>\n",
       "      <td>7.111111</td>\n",
       "      <td>32.111111</td>\n",
       "      <td>78.000000</td>\n",
       "      <td>92.222222</td>\n",
       "      <td>60.222222</td>\n",
       "      <td>44.444444</td>\n",
       "      <td>46.111111</td>\n",
       "      <td>54.222222</td>\n",
       "    </tr>\n",
       "    <tr>\n",
       "      <th>total_iterations_average</th>\n",
       "      <td>314.444444</td>\n",
       "      <td>238.333333</td>\n",
       "      <td>106.222222</td>\n",
       "      <td>360.111111</td>\n",
       "      <td>147.777778</td>\n",
       "      <td>101.111111</td>\n",
       "      <td>314.444444</td>\n",
       "      <td>154.444444</td>\n",
       "      <td>94.444444</td>\n",
       "    </tr>\n",
       "    <tr>\n",
       "      <th>time_found_average</th>\n",
       "      <td>27.713492</td>\n",
       "      <td>17.344918</td>\n",
       "      <td>245.431175</td>\n",
       "      <td>32.461713</td>\n",
       "      <td>331.723797</td>\n",
       "      <td>872.056096</td>\n",
       "      <td>20.883867</td>\n",
       "      <td>311.021584</td>\n",
       "      <td>1661.010476</td>\n",
       "    </tr>\n",
       "    <tr>\n",
       "      <th>total_time_average</th>\n",
       "      <td>103.990541</td>\n",
       "      <td>515.155668</td>\n",
       "      <td>838.363917</td>\n",
       "      <td>146.051552</td>\n",
       "      <td>576.493709</td>\n",
       "      <td>1540.045384</td>\n",
       "      <td>157.304277</td>\n",
       "      <td>897.819508</td>\n",
       "      <td>2579.825341</td>\n",
       "    </tr>\n",
       "    <tr>\n",
       "      <th>RPD_average</th>\n",
       "      <td>0.331650</td>\n",
       "      <td>0.084091</td>\n",
       "      <td>0.005439</td>\n",
       "      <td>0.396991</td>\n",
       "      <td>0.357510</td>\n",
       "      <td>0.585593</td>\n",
       "      <td>0.025738</td>\n",
       "      <td>0.422377</td>\n",
       "      <td>0.380331</td>\n",
       "    </tr>\n",
       "  </tbody>\n",
       "</table>\n",
       "</div>"
      ],
      "text/plain": [
       "                          S_3-Ord_10-WIP_0  S_3-Ord_30-WIP_0  \\\n",
       "best_cost_average                87.888889        477.000000   \n",
       "iteration_found_average          85.333333          7.111111   \n",
       "total_iterations_average        314.444444        238.333333   \n",
       "time_found_average               27.713492         17.344918   \n",
       "total_time_average              103.990541        515.155668   \n",
       "RPD_average                       0.331650          0.084091   \n",
       "\n",
       "                          S_3-Ord_50-WIP_0  S_6-Ord_10-WIP_0  \\\n",
       "best_cost_average               287.555556        134.111111   \n",
       "iteration_found_average          32.111111         78.000000   \n",
       "total_iterations_average        106.222222        360.111111   \n",
       "time_found_average              245.431175         32.461713   \n",
       "total_time_average              838.363917        146.051552   \n",
       "RPD_average                       0.005439          0.396991   \n",
       "\n",
       "                          S_6-Ord_30-WIP_0  S_6-Ord_50-WIP_0  \\\n",
       "best_cost_average               293.222222        604.111111   \n",
       "iteration_found_average          92.222222         60.222222   \n",
       "total_iterations_average        147.777778        101.111111   \n",
       "time_found_average              331.723797        872.056096   \n",
       "total_time_average              576.493709       1540.045384   \n",
       "RPD_average                       0.357510          0.585593   \n",
       "\n",
       "                          S_9-Ord_10-WIP_0  S_9-Ord_30-WIP_0  S_9-Ord_50-WIP_0  \n",
       "best_cost_average               181.555556        408.222222        528.666667  \n",
       "iteration_found_average          44.444444         46.111111         54.222222  \n",
       "total_iterations_average        314.444444        154.444444         94.444444  \n",
       "time_found_average               20.883867        311.021584       1661.010476  \n",
       "total_time_average              157.304277        897.819508       2579.825341  \n",
       "RPD_average                       0.025738          0.422377          0.380331  "
      ]
     },
     "execution_count": 13,
     "metadata": {},
     "output_type": "execute_result"
    }
   ],
   "source": [
    "grouped.mean().T"
   ]
  }
 ],
 "metadata": {
  "kernelspec": {
   "display_name": "Python 3",
   "language": "python",
   "name": "python3"
  },
  "language_info": {
   "codemirror_mode": {
    "name": "ipython",
    "version": 3
   },
   "file_extension": ".py",
   "mimetype": "text/x-python",
   "name": "python",
   "nbconvert_exporter": "python",
   "pygments_lexer": "ipython3",
   "version": "3.10.0"
  }
 },
 "nbformat": 4,
 "nbformat_minor": 5
}
