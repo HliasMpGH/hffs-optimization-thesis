{
 "cells": [
  {
   "cell_type": "code",
   "execution_count": 28,
   "id": "4064701e",
   "metadata": {},
   "outputs": [],
   "source": [
    "import pandas as pd\n",
    "import json"
   ]
  },
  {
   "cell_type": "markdown",
   "id": "a1c77be0",
   "metadata": {},
   "source": [
    "* Read the results of the GA executions on the complete instances "
   ]
  },
  {
   "cell_type": "markdown",
   "id": "18d84b10",
   "metadata": {},
   "source": [
    "* To present the execution results for the operators on the sample, read file `sample_results_real.json` "
   ]
  },
  {
   "cell_type": "code",
   "execution_count": 29,
   "id": "cb2a68ac",
   "metadata": {},
   "outputs": [],
   "source": [
    "with open(\"ga_results_eaai.json\", \"r\") as file:\n",
    "    operator_results = json.load(file)"
   ]
  },
  {
   "cell_type": "markdown",
   "id": "c52e1dba",
   "metadata": {},
   "source": [
    "* Compute averages per trial, max and min trial for each instance and each operator"
   ]
  },
  {
   "cell_type": "code",
   "execution_count": 30,
   "id": "d86b8bfd",
   "metadata": {},
   "outputs": [],
   "source": [
    "operator_stats = {}\n",
    "\n",
    "for instance, instance_data in operator_results.items():\n",
    "    ga_methods = instance_data.get(\"method:\", {}).get(\"GA\", {})\n",
    "\n",
    "    operator_stats[instance] = {}\n",
    "\n",
    "    # Find best fitness across all trials with the same stages and orders\n",
    "    instance_prefix = instance.split('-I_')[0]\n",
    "    all_makespan_same_group = [\n",
    "        1 / metrics[\"fitness\"]\n",
    "        for inst, inst_data in operator_results.items()\n",
    "        if inst.startswith(instance_prefix)\n",
    "        for op_data in inst_data.get(\"method:\", {}).get(\"GA\", {}).values()\n",
    "        for trial_set2 in op_data.get(\"detailed_trial_results\", [])\n",
    "        for metrics in trial_set2[\"trial_results\"].values()\n",
    "    ]\n",
    "\n",
    "    best_makespan = min(all_makespan_same_group)\n",
    "    for operator, operator_data in ga_methods.items():\n",
    "        for trial_set in operator_data.get(\"detailed_trial_results\", []):\n",
    "            trial_results = trial_set[\"trial_results\"]\n",
    "            fitness_values = []\n",
    "            trial_metrics = []\n",
    "            for trial_name, metrics in trial_results.items():\n",
    "                fitness_values.append(metrics[\"fitness\"])\n",
    "                trial_metrics.append((trial_name, metrics))\n",
    "\n",
    "            # compute average metrics\n",
    "            avg_metrics = {}\n",
    "            if trial_metrics:\n",
    "                keys = trial_metrics[0][1].keys()\n",
    "                for key in keys:\n",
    "                    if key.endswith(\"chromosome\"):\n",
    "                        continue\n",
    "                    avg_metrics[key] = sum(m[key] for _, m in trial_metrics) / len(trial_metrics)\n",
    "                # compute average RPD\n",
    "                rpd_values = [((1 / m[\"fitness\"]) - best_makespan) / best_makespan for _, m in trial_metrics]\n",
    "                avg_metrics[\"RPD\"] = sum(rpd_values) / len(rpd_values) if rpd_values else None\n",
    "            # find max and min fitness trials\n",
    "            max_idx = fitness_values.index(max(fitness_values))\n",
    "            min_idx = fitness_values.index(min(fitness_values))\n",
    "            max_trial = trial_metrics[max_idx][1]\n",
    "            min_trial = trial_metrics[min_idx][1]\n",
    "            operator_stats[instance][operator] = {\n",
    "                \"average\": avg_metrics,\n",
    "                \"max_fitness_trial\": max_trial,\n",
    "                \"min_fitness_trial\": min_trial\n",
    "            }"
   ]
  },
  {
   "cell_type": "markdown",
   "id": "286e1355",
   "metadata": {},
   "source": [
    "* Save the detailed results"
   ]
  },
  {
   "cell_type": "code",
   "execution_count": 31,
   "id": "f1e5d8ce",
   "metadata": {},
   "outputs": [],
   "source": [
    "if operator_stats != {}:\n",
    "    with open(\"operators.json\", 'w') as file:\n",
    "        json.dump(operator_stats, file, indent=4)"
   ]
  },
  {
   "cell_type": "markdown",
   "id": "3e11028e",
   "metadata": {},
   "source": [
    "* Create a dataframe with the averages "
   ]
  },
  {
   "cell_type": "code",
   "execution_count": 32,
   "id": "e47064cf",
   "metadata": {},
   "outputs": [],
   "source": [
    "data = {}\n",
    "for instance, ops in operator_stats.items():\n",
    "    row = {}\n",
    "    for operator, stats in ops.items():\n",
    "        for metric, value in stats[\"average\"].items():\n",
    "            row[f\"{operator}_{metric}_average\"] = value\n",
    "    data[instance] = row\n",
    "\n",
    "df_operator_avg = pd.DataFrame.from_dict(data, orient=\"index\")"
   ]
  },
  {
   "cell_type": "markdown",
   "id": "529dd216",
   "metadata": {},
   "source": [
    "* Group the results per stages-orders categories"
   ]
  },
  {
   "cell_type": "code",
   "execution_count": 33,
   "id": "32b9fcc5",
   "metadata": {},
   "outputs": [],
   "source": [
    "grouped = df_operator_avg.groupby(\n",
    "    df_operator_avg.index.to_series().str.replace(r'-I_\\d+', '', regex=True)\n",
    ")"
   ]
  },
  {
   "cell_type": "markdown",
   "id": "d43cf1d9",
   "metadata": {},
   "source": [
    "* Print the averages per stages-orders categories"
   ]
  },
  {
   "cell_type": "code",
   "execution_count": 34,
   "id": "e2d8b023",
   "metadata": {},
   "outputs": [
    {
     "data": {
      "text/html": [
       "<div>\n",
       "<style scoped>\n",
       "    .dataframe tbody tr th:only-of-type {\n",
       "        vertical-align: middle;\n",
       "    }\n",
       "\n",
       "    .dataframe tbody tr th {\n",
       "        vertical-align: top;\n",
       "    }\n",
       "\n",
       "    .dataframe thead th {\n",
       "        text-align: right;\n",
       "    }\n",
       "</style>\n",
       "<table border=\"1\" class=\"dataframe\">\n",
       "  <thead>\n",
       "    <tr style=\"text-align: right;\">\n",
       "      <th></th>\n",
       "      <th>S_3-Ord_10-WIP_0</th>\n",
       "      <th>S_3-Ord_30-WIP_0</th>\n",
       "      <th>S_3-Ord_50-WIP_0</th>\n",
       "      <th>S_6-Ord_10-WIP_0</th>\n",
       "      <th>S_6-Ord_30-WIP_0</th>\n",
       "      <th>S_6-Ord_50-WIP_0</th>\n",
       "      <th>S_9-Ord_10-WIP_0</th>\n",
       "      <th>S_9-Ord_30-WIP_0</th>\n",
       "      <th>S_9-Ord_50-WIP_0</th>\n",
       "    </tr>\n",
       "  </thead>\n",
       "  <tbody>\n",
       "    <tr>\n",
       "      <th>swap_fitness_average</th>\n",
       "      <td>0.011922</td>\n",
       "      <td>0.002103</td>\n",
       "      <td>0.003488</td>\n",
       "      <td>0.008242</td>\n",
       "      <td>0.003636</td>\n",
       "      <td>0.001836</td>\n",
       "      <td>0.005496</td>\n",
       "      <td>0.002621</td>\n",
       "      <td>0.002038</td>\n",
       "    </tr>\n",
       "    <tr>\n",
       "      <th>swap_time_found_average</th>\n",
       "      <td>60.919310</td>\n",
       "      <td>51.541257</td>\n",
       "      <td>635.079202</td>\n",
       "      <td>63.459572</td>\n",
       "      <td>441.134881</td>\n",
       "      <td>926.177250</td>\n",
       "      <td>73.407896</td>\n",
       "      <td>777.975271</td>\n",
       "      <td>2268.227733</td>\n",
       "    </tr>\n",
       "    <tr>\n",
       "      <th>swap_total_time_average</th>\n",
       "      <td>103.521517</td>\n",
       "      <td>511.398039</td>\n",
       "      <td>815.437473</td>\n",
       "      <td>145.499152</td>\n",
       "      <td>564.115404</td>\n",
       "      <td>1469.711723</td>\n",
       "      <td>156.733120</td>\n",
       "      <td>892.358886</td>\n",
       "      <td>2518.904566</td>\n",
       "    </tr>\n",
       "    <tr>\n",
       "      <th>swap_generation_found_average</th>\n",
       "      <td>48.777778</td>\n",
       "      <td>10.111111</td>\n",
       "      <td>72.000000</td>\n",
       "      <td>39.444444</td>\n",
       "      <td>73.555556</td>\n",
       "      <td>60.555556</td>\n",
       "      <td>44.555556</td>\n",
       "      <td>81.888889</td>\n",
       "      <td>91.555556</td>\n",
       "    </tr>\n",
       "    <tr>\n",
       "      <th>swap_RPD_average</th>\n",
       "      <td>0.298507</td>\n",
       "      <td>0.084091</td>\n",
       "      <td>0.002331</td>\n",
       "      <td>0.408187</td>\n",
       "      <td>0.338384</td>\n",
       "      <td>0.571759</td>\n",
       "      <td>0.046616</td>\n",
       "      <td>0.438534</td>\n",
       "      <td>0.390794</td>\n",
       "    </tr>\n",
       "  </tbody>\n",
       "</table>\n",
       "</div>"
      ],
      "text/plain": [
       "                               S_3-Ord_10-WIP_0  S_3-Ord_30-WIP_0  \\\n",
       "swap_fitness_average                   0.011922          0.002103   \n",
       "swap_time_found_average               60.919310         51.541257   \n",
       "swap_total_time_average              103.521517        511.398039   \n",
       "swap_generation_found_average         48.777778         10.111111   \n",
       "swap_RPD_average                       0.298507          0.084091   \n",
       "\n",
       "                               S_3-Ord_50-WIP_0  S_6-Ord_10-WIP_0  \\\n",
       "swap_fitness_average                   0.003488          0.008242   \n",
       "swap_time_found_average              635.079202         63.459572   \n",
       "swap_total_time_average              815.437473        145.499152   \n",
       "swap_generation_found_average         72.000000         39.444444   \n",
       "swap_RPD_average                       0.002331          0.408187   \n",
       "\n",
       "                               S_6-Ord_30-WIP_0  S_6-Ord_50-WIP_0  \\\n",
       "swap_fitness_average                   0.003636          0.001836   \n",
       "swap_time_found_average              441.134881        926.177250   \n",
       "swap_total_time_average              564.115404       1469.711723   \n",
       "swap_generation_found_average         73.555556         60.555556   \n",
       "swap_RPD_average                       0.338384          0.571759   \n",
       "\n",
       "                               S_9-Ord_10-WIP_0  S_9-Ord_30-WIP_0  \\\n",
       "swap_fitness_average                   0.005496          0.002621   \n",
       "swap_time_found_average               73.407896        777.975271   \n",
       "swap_total_time_average              156.733120        892.358886   \n",
       "swap_generation_found_average         44.555556         81.888889   \n",
       "swap_RPD_average                       0.046616          0.438534   \n",
       "\n",
       "                               S_9-Ord_50-WIP_0  \n",
       "swap_fitness_average                   0.002038  \n",
       "swap_time_found_average             2268.227733  \n",
       "swap_total_time_average             2518.904566  \n",
       "swap_generation_found_average         91.555556  \n",
       "swap_RPD_average                       0.390794  "
      ]
     },
     "execution_count": 34,
     "metadata": {},
     "output_type": "execute_result"
    }
   ],
   "source": [
    "grouped.mean().T"
   ]
  }
 ],
 "metadata": {
  "kernelspec": {
   "display_name": "Python 3",
   "language": "python",
   "name": "python3"
  },
  "language_info": {
   "codemirror_mode": {
    "name": "ipython",
    "version": 3
   },
   "file_extension": ".py",
   "mimetype": "text/x-python",
   "name": "python",
   "nbconvert_exporter": "python",
   "pygments_lexer": "ipython3",
   "version": "3.10.0"
  }
 },
 "nbformat": 4,
 "nbformat_minor": 5
}
